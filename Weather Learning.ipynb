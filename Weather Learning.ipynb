{
 "cells": [
  {
   "cell_type": "code",
   "execution_count": 1,
   "metadata": {},
   "outputs": [],
   "source": [
    "import tensorflow as tf\n",
    "import scipy as sp\n",
    "from scipy import ndimage\n",
    "import numpy as np\n",
    "import os\n",
    "import sklearn\n",
    "import imageio\n",
    "from matplotlib import pyplot as plt\n",
    "%matplotlib inline"
   ]
  },
  {
   "cell_type": "code",
   "execution_count": 2,
   "metadata": {},
   "outputs": [
    {
     "name": "stdout",
     "output_type": "stream",
     "text": [
      "('fire', './fire_data.txt', (89, 168, 512, 1))\n",
      "('frac', './frac_data.txt', (89, 168, 512, 1))\n",
      "('land', './land_data.txt', (89, 168, 512, 1))\n",
      "('moisture', './mois_data.txt', (89, 168, 512, 1))\n",
      "('ndvi', './ndvi_data.txt', (89, 168, 512, 1))\n",
      "('longwave_energy', './olwr_data.txt', (89, 168, 512, 1))\n",
      "(89, 168, 512, 6)\n",
      "(89, 168, 512, 1)\n"
     ]
    }
   ],
   "source": [
    "# The inputs and outptus are the maps downloaded from https://www.nnvl.noaa.gov/view/globaldata.html\n",
    "# The inputs to the model are Land Surface Temperature, Moisture and Longwave Energy. \n",
    "# The output is the average precipitation map. \n",
    "# All maps are in the average weekly format. The idea is to find correlation between the input maps and \n",
    "# the output. \n",
    "\n",
    "input_labels = ['fire', 'frac', 'land', 'moisture', 'ndvi', 'longwave_energy'];\n",
    "files = ['./fire_data.txt', './frac_data.txt', './land_data.txt', './mois_data.txt', './ndvi_data.txt', './olwr_data.txt']\n",
    "input_dict = {}\n",
    "\n",
    "#xdim = 256\n",
    "xdim = 168\n",
    "ydim = 512\n",
    "in_chan = 6\n",
    "out_chan = 1\n",
    "\n",
    "# Process the input : input_metrics will contain a 2048 x 4096 image with 9 channels (corresponding to 3 inputs)\n",
    "\n",
    "for label, path in zip(input_labels, files):\n",
    "    \n",
    "    input_dict[label] = [];\n",
    "    input_dict[label] = (np.loadtxt(path,delimiter=',').reshape(-1,xdim,ydim,1))\n",
    "    print(label, path,input_dict[label].shape)\n",
    "\n",
    "input_metrics = input_dict[input_labels[0]];\n",
    "for label in (input_labels[1:]):\n",
    "    input_metrics = np.concatenate((input_metrics, input_dict[label]), axis=3);\n",
    "\n",
    "# Process the output : output_metric will contain a 256 x 4096 image with 3 channels\n",
    "path = './rain_data.txt'\n",
    "output_metric = (np.loadtxt(path, delimiter=',').reshape(-1,xdim,ydim,1))\n",
    "output_metric = np.array(output_metric);\n",
    "samples = input_metrics.shape[0];\n",
    "\n",
    "print(input_metrics.shape)\n",
    "print(output_metric.shape)\n"
   ]
  },
  {
   "cell_type": "code",
   "execution_count": 3,
   "metadata": {},
   "outputs": [],
   "source": [
    "# Function to obtain the next batch based on the input size and the batch size\n",
    "def next_batch(indices, i):\n",
    "    \n",
    "    ind0, ind1 = i*batch_size, np.minimum((i+1)*batch_size, samples)\n",
    "            \n",
    "    return input_metrics[indices[ind0:ind1], :, :, :], output_metric[indices[ind0:ind1], :, :, :]"
   ]
  },
  {
   "cell_type": "code",
   "execution_count": 4,
   "metadata": {},
   "outputs": [],
   "source": [
    "# Building a simple CNN model that looks like an auto-encoder. This is the section to change for a new model.\n",
    "\n",
    "def conv_net(x):\n",
    "    \n",
    "    x = tf.reshape(x, shape=[-1, xdim, ydim, in_chan], name='reshape_x');\n",
    "    x = tf.cast(x, tf.float32) \n",
    "    \n",
    "    # Encoder\n",
    "    # Scale down by 2x2. Out Channels = 32\n",
    "    conv1 = tf.nn.relu(tf.contrib.layers.conv2d(x, 32, [8, 8], stride=2, padding='SAME', \n",
    "                                                biases_initializer=tf.zeros_initializer()))\n",
    "    # Scale down by 2x2. Out Channels = 16\n",
    "    conv2 = tf.nn.relu(tf.contrib.layers.conv2d(conv1, 16, [8, 8], stride=2, padding='SAME', \n",
    "                                                biases_initializer=tf.zeros_initializer()))\n",
    "    # Scale down by 2x2. Out Channels = 8\n",
    "    conv3 = tf.nn.relu(tf.contrib.layers.conv2d(conv2, 8, [8, 8], stride=2, padding='SAME', \n",
    "                                                biases_initializer=tf.zeros_initializer()))\n",
    "    \n",
    "    # Decoder\n",
    "    # Scale up by 2x2. Out Channels = 16\n",
    "    conv4 = tf.nn.relu(tf.contrib.layers.conv2d_transpose(conv3, 16, [8, 8], stride=2, padding='SAME',\n",
    "                                                         biases_initializer=tf.zeros_initializer()))\n",
    "    # Scale up by 2x2. Out Channels = 32\n",
    "    conv5 = tf.nn.relu(tf.contrib.layers.conv2d_transpose(conv4, 32, [8, 8], stride=2, padding='SAME',\n",
    "                                                         biases_initializer=tf.zeros_initializer()))\n",
    "    # Scale up by 2x2. Out Channels = 1\n",
    "    conv6 = tf.nn.relu(tf.contrib.layers.conv2d_transpose(conv5, out_chan, [8, 8], stride=2, padding='SAME',\n",
    "                                                         biases_initializer=tf.zeros_initializer()))\n",
    "    \n",
    "    return conv6;\n",
    "\n",
    "Y = tf.placeholder(tf.float32, shape=(None,xdim,ydim,out_chan));\n",
    "X = tf.placeholder(tf.float32, shape=[None,xdim,ydim,in_chan]);\n",
    "\n",
    "optimizer = tf.train.AdamOptimizer(learning_rate=0.001);\n",
    "\n",
    "out = conv_net(X);\n",
    "loss_op = tf.reduce_sum(tf.multiply(Y-out,Y-out));\n",
    "train_op = optimizer.minimize(loss_op);"
   ]
  },
  {
   "cell_type": "code",
   "execution_count": 5,
   "metadata": {},
   "outputs": [],
   "source": [
    "# Load colorbar for rain\n",
    "color_bar = imageio.imread('rain_colorbar.png')\n",
    "color_bar = color_bar[0, :, 0:3].astype(float)\n",
    "\n",
    "c_n = np.shape(color_bar)[0]\n",
    "\n",
    "color_bar_data = np.exp(np.linspace(np.log(1), np.log(375), c_n)).reshape((c_n, 1, 1, 1))\n",
    "color_bar_data = (color_bar_data - 1) / (375 - 1)\n",
    "\n",
    "# Function for reconstructing rain image based on output from network\n",
    "def generate_rainfall_images(rain_data, filename):\n",
    "    ind = np.argmin(abs(color_bar_data - rain_data), axis=0)\n",
    "    \n",
    "    rain_image = np.uint8(color_bar[ind, :].reshape((xdim, ydim, 3)).astype(int))\n",
    "    \n",
    "    imageio.imwrite(filename, rain_image)"
   ]
  },
  {
   "cell_type": "code",
   "execution_count": 6,
   "metadata": {
    "scrolled": false
   },
   "outputs": [
    {
     "name": "stdout",
     "output_type": "stream",
     "text": [
      "12\n",
      "(0, 17010.279439290363)\n",
      "(1, 14028.38466389974)\n",
      "(2, 13099.184122721354)\n",
      "(3, 12799.240091959635)\n",
      "(4, 12949.747273763021)\n",
      "(5, 12778.912780761719)\n",
      "(6, 12744.604614257812)\n",
      "(7, 12568.683756510416)\n",
      "(8, 12461.961822509766)\n",
      "(9, 12450.338979085287)\n",
      "(10, 12277.009552001953)\n",
      "(11, 12197.194559733072)\n",
      "(12, 12121.217854817709)\n",
      "(13, 12095.586344401041)\n",
      "(14, 11980.418009440104)\n",
      "(15, 11954.718729654947)\n",
      "(16, 11919.078160603842)\n",
      "(17, 11896.457641601562)\n",
      "(18, 11970.029012044271)\n",
      "(19, 11858.743835449219)\n"
     ]
    }
   ],
   "source": [
    "num_epochs = 20;\n",
    "batch_size = 8;\n",
    "num_batches = int(np.ceil(float(samples) / batch_size));\n",
    "print(num_batches)\n",
    "\n",
    "loss_arr = [];\n",
    "\n",
    "with tf.Session() as sess:\n",
    "    \n",
    "    # Run the initializer\n",
    "    sess.run(tf.global_variables_initializer())\n",
    "    \n",
    "    for epoch in range(num_epochs):\n",
    "        indices = np.random.permutation(samples);\n",
    "        \n",
    "        # Compute the loss across all the batches\n",
    "        total_loss = 0;\n",
    "        for i in range(num_batches):\n",
    "            x_train, y_train = next_batch(indices, i);\n",
    "            [loss, train] = sess.run([loss_op, train_op], feed_dict={X: x_train, Y: y_train});            \n",
    "            total_loss += loss;\n",
    "        \n",
    "        loss_arr.append(total_loss / num_batches);\n",
    "        print(epoch, total_loss / num_batches);\n",
    "    \n",
    "    # Make rain plots from network outputs\n",
    "    N_images = 5;\n",
    "    idx_image = np.random.permutation(samples)[:N_images];\n",
    "    for i in range(N_images):\n",
    "        x_test = input_metrics[idx_image[i], :, :, :].reshape((1, xdim, ydim, in_chan))\n",
    "        y_test = output_metric[idx_image[i], :, :, :].reshape((1, xdim, ydim, out_chan))\n",
    "        \n",
    "        [output_data] = sess.run([out], feed_dict={X: x_test, Y: y_test});\n",
    "        \n",
    "        generate_rainfall_images(output_data, 'rainfall' + str(i) + '_generated.png')\n",
    "        generate_rainfall_images(y_test, 'rainfall' + str(i) + '_true.png')"
   ]
  },
  {
   "cell_type": "code",
   "execution_count": 7,
   "metadata": {},
   "outputs": [
    {
     "data": {
      "image/png": "[encoded data removed]",
      "text/plain": [
       "<matplotlib.figure.Figure at 0x7ff162d01090>"
      ]
     },
     "metadata": {},
     "output_type": "display_data"
    }
   ],
   "source": [
    "plt.plot(loss_arr);"
   ]
  }
 ],
 "metadata": {
  "kernelspec": {
   "display_name": "Python 2",
   "language": "python",
   "name": "python2"
  },
  "language_info": {
   "codemirror_mode": {
    "name": "ipython",
    "version": 2
   },
   "file_extension": ".py",
   "mimetype": "text/x-python",
   "name": "python",
   "nbconvert_exporter": "python",
   "pygments_lexer": "ipython2",
   "version": "2.7.12"
  }
 },
 "nbformat": 4,
 "nbformat_minor": 2
}
